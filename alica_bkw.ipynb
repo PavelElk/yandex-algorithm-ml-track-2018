{
 "cells": [
  {
   "cell_type": "markdown",
   "metadata": {},
   "source": [
    "## IMDb"
   ]
  },
  {
   "cell_type": "code",
   "execution_count": 2,
   "metadata": {},
   "outputs": [],
   "source": [
    "# Put these at the top of every notebook, to get automatic reloading and inline plotting\n",
    "%reload_ext autoreload\n",
    "%autoreload 2\n",
    "%matplotlib inline"
   ]
  },
  {
   "cell_type": "code",
   "execution_count": 3,
   "metadata": {},
   "outputs": [],
   "source": [
    "from fastai.text import *\n",
    "import html"
   ]
  },
  {
   "cell_type": "code",
   "execution_count": 4,
   "metadata": {},
   "outputs": [],
   "source": [
    "BOS = 'xbos'  # beginning-of-sentence tag\n",
    "FLD = 'xfld'  # data field tag\n",
    "\n",
    "PATH=Path('data/alica/')"
   ]
  },
  {
   "cell_type": "markdown",
   "metadata": {},
   "source": [
    "## Standardize format"
   ]
  },
  {
   "cell_type": "code",
   "execution_count": 5,
   "metadata": {},
   "outputs": [],
   "source": [
    "CLAS_PATH=Path('data/alica_clas/')\n",
    "CLAS_PATH.mkdir(exist_ok=True)\n",
    "\n",
    "LM_PATH=Path('data/alica_lm/')\n",
    "LM_PATH.mkdir(exist_ok=True)"
   ]
  },
  {
   "cell_type": "code",
   "execution_count": 6,
   "metadata": {},
   "outputs": [],
   "source": [
    "CLASSES = ['good', 'neutral', 'bad']\n",
    "#d = {\"good\":2,\"neutral\":1,\"bad\":0}\n",
    "d = {\"good\":1,\"bad\":0}\n",
    "col_names = ['labels','text']"
   ]
  },
  {
   "cell_type": "markdown",
   "metadata": {},
   "source": [
    "## Language model tokens"
   ]
  },
  {
   "cell_type": "code",
   "execution_count": 7,
   "metadata": {},
   "outputs": [],
   "source": [
    "chunksize=96000"
   ]
  },
  {
   "cell_type": "code",
   "execution_count": 8,
   "metadata": {},
   "outputs": [],
   "source": [
    "re1 = re.compile(r'  +')\n",
    "\n",
    "def fixup(x):\n",
    "    x = x.replace(u'\\xa0', u' ')\n",
    "    x = x.replace('|', '\\n')\n",
    "    x = x.replace('\\n\\n\\n', '\\n')\n",
    "    x = x.replace('\\n\\n', '\\n')\n",
    "    x = x.replace(\". . .\",\"...\")\n",
    "    x = \" , \".join(x.split(\",\"))\n",
    "    x = \" . \".join(x.split(\".\"))\n",
    "    x = x.replace(\".  .  .\",\"...\")\n",
    "    \n",
    "    return re1.sub(' ', html.unescape(x))"
   ]
  },
  {
   "cell_type": "code",
   "execution_count": 9,
   "metadata": {},
   "outputs": [],
   "source": [
    "def get_texts(df):\n",
    "    labels = df[0].values.astype(np.int64)\n",
    "    texts = '\\n' + df[1].astype(str)\n",
    "    texts = texts.apply(fixup).values.astype(str)\n",
    "\n",
    "    tok = Tokenizer().proc_all_mp(partition_by_cores(texts), 'xx')\n",
    "    return tok, list(labels)"
   ]
  },
  {
   "cell_type": "code",
   "execution_count": 10,
   "metadata": {},
   "outputs": [],
   "source": [
    "def get_all(df):\n",
    "    tok, labels = [], []\n",
    "    for i, r in tqdm(enumerate(df)):\n",
    "        tok_, labels_ = get_texts(r)\n",
    "        tok += tok_;\n",
    "        labels += labels_\n",
    "    return tok, labels"
   ]
  },
  {
   "cell_type": "code",
   "execution_count": null,
   "metadata": {},
   "outputs": [],
   "source": [
    "tmp_lm = []\n",
    "trn_lm = np.load(LM_PATH/'tmp'/'trn_ids.npy')\n",
    "\n",
    "for x in tqdm(trn_lm):\n",
    "    tmp_lm.append(x[::-1])\n",
    "    \n",
    "np.save(LM_PATH/'tmp'/'trn_ids_bkw.npy', np.array(tmp_lm))"
   ]
  },
  {
   "cell_type": "code",
   "execution_count": null,
   "metadata": {},
   "outputs": [],
   "source": [
    "tmp_lm = []\n",
    "val_lm = np.load(LM_PATH/'tmp'/'val_ids.npy')\n",
    "\n",
    "for x in tqdm(val_lm):\n",
    "    tmp_lm.append(x[::-1])\n",
    "    \n",
    "np.save(LM_PATH/'tmp'/'val_ids_bkw.npy', np.array(tmp_lm))"
   ]
  },
  {
   "cell_type": "code",
   "execution_count": null,
   "metadata": {},
   "outputs": [],
   "source": [
    "tmp_lm = []\n",
    "trn_lm = np.load(CLAS_PATH/'tmp'/'trn_ids.npy')\n",
    "\n",
    "for x in tqdm(trn_lm):\n",
    "    tmp_lm.append(x[::-1])\n",
    "    \n",
    "np.save(CLAS_PATH/'tmp'/'trn_ids_bkw.npy', np.array(tmp_lm))"
   ]
  },
  {
   "cell_type": "code",
   "execution_count": null,
   "metadata": {},
   "outputs": [],
   "source": [
    "tmp_lm = []\n",
    "val_lm = np.load(CLAS_PATH/'tmp'/'val_ids.npy')\n",
    "\n",
    "for x in tqdm(val_lm):\n",
    "    tmp_lm.append(x[::-1])\n",
    "    \n",
    "np.save(CLAS_PATH/'tmp'/'val_ids_bkw.npy', np.array(tmp_lm))"
   ]
  },
  {
   "cell_type": "code",
   "execution_count": null,
   "metadata": {},
   "outputs": [],
   "source": [
    "tmp_lm = []\n",
    "tst_lm = np.load(CLAS_PATH/'tmp'/'tst_ids.npy')\n",
    "\n",
    "for x in tqdm(tst_lm):\n",
    "    tmp_lm.append(x[::-1])\n",
    "    \n",
    "np.save(CLAS_PATH/'tmp'/'tst_ids_bkw.npy', np.array(tmp_lm))"
   ]
  },
  {
   "cell_type": "code",
   "execution_count": null,
   "metadata": {},
   "outputs": [],
   "source": [
    "tmp_lm = []\n",
    "tst_lm = np.load(CLAS_PATH/'tmp'/'tst_ids_.npy')\n",
    "\n",
    "for x in tqdm(tst_lm):\n",
    "    tmp_lm.append(x[::-1])\n",
    "    \n",
    "np.save(CLAS_PATH/'tmp'/'tst_ids_bkw_.npy', np.array(tmp_lm))"
   ]
  },
  {
   "cell_type": "code",
   "execution_count": null,
   "metadata": {},
   "outputs": [],
   "source": [
    "for i in range(10):\n",
    "    tmp_lm = []\n",
    "    trn_lm = np.load(CLAS_PATH/'tmp'/f'trn_ids_{i}.npy')\n",
    "\n",
    "    for x in tqdm(trn_lm):\n",
    "        tmp_lm.append(x[::-1])\n",
    "\n",
    "    np.save(CLAS_PATH/'tmp'/f'trn_ids_{i}_bkw.npy', np.array(tmp_lm))"
   ]
  },
  {
   "cell_type": "code",
   "execution_count": null,
   "metadata": {},
   "outputs": [],
   "source": [
    "for i in range(10):\n",
    "    tmp_lm = []\n",
    "    val_lm = np.load(CLAS_PATH/'tmp'/f'val_ids_{i}.npy')\n",
    "\n",
    "    for x in tqdm(val_lm):\n",
    "        tmp_lm.append(x[::-1])\n",
    "\n",
    "    np.save(CLAS_PATH/'tmp'/f'val_ids_{i}_bkw.npy', np.array(tmp_lm))"
   ]
  },
  {
   "cell_type": "code",
   "execution_count": null,
   "metadata": {},
   "outputs": [],
   "source": [
    "for i in range(10):\n",
    "    tmp_lm = []\n",
    "    trn_lm = np.load(CLAS_PATH/'tmp'/f'trn_ids_{i}_.npy')\n",
    "\n",
    "    for x in tqdm(trn_lm):\n",
    "        tmp_lm.append(x[::-1])\n",
    "\n",
    "    np.save(CLAS_PATH/'tmp'/f'trn_ids_{i}_bkw_.npy', np.array(tmp_lm))"
   ]
  },
  {
   "cell_type": "code",
   "execution_count": null,
   "metadata": {},
   "outputs": [],
   "source": [
    "for i in range(10):\n",
    "    tmp_lm = []\n",
    "    val_lm = np.load(CLAS_PATH/'tmp'/f'val_ids_{i}_.npy')\n",
    "\n",
    "    for x in tqdm(val_lm):\n",
    "        tmp_lm.append(x[::-1])\n",
    "\n",
    "    np.save(CLAS_PATH/'tmp'/f'val_ids_{i}_bkw_.npy', np.array(tmp_lm))"
   ]
  },
  {
   "cell_type": "code",
   "execution_count": null,
   "metadata": {},
   "outputs": [],
   "source": [
    "for i in range(10):\n",
    "    tmp_lm = []\n",
    "    trn_lm = np.load(CLAS_PATH/'tmp'/f'trn_ids_{i}_n.npy')\n",
    "\n",
    "    for x in tqdm(trn_lm):\n",
    "        tmp_lm.append(x[::-1])\n",
    "\n",
    "    np.save(CLAS_PATH/'tmp'/f'trn_ids_{i}_bkw_n.npy', np.array(tmp_lm))\n",
    "\n",
    "for i in range(10):\n",
    "    tmp_lm = []\n",
    "    val_lm = np.load(CLAS_PATH/'tmp'/f'val_ids_{i}_n.npy')\n",
    "\n",
    "    for x in tqdm(val_lm):\n",
    "        tmp_lm.append(x[::-1])\n",
    "\n",
    "    np.save(CLAS_PATH/'tmp'/f'val_ids_{i}_bkw_n.npy', np.array(tmp_lm))"
   ]
  },
  {
   "cell_type": "code",
   "execution_count": null,
   "metadata": {},
   "outputs": [],
   "source": [
    "for i in range(10):\n",
    "    tmp_lm = []\n",
    "    trn_lm = np.load(CLAS_PATH/'tmp'/f'trn_ids_{i}_r.npy')\n",
    "\n",
    "    for x in tqdm(trn_lm):\n",
    "        tmp_lm.append(x[::-1])\n",
    "\n",
    "    np.save(CLAS_PATH/'tmp'/f'trn_ids_{i}_bkw_r.npy', np.array(tmp_lm))\n",
    "\n",
    "for i in range(10):\n",
    "    tmp_lm = []\n",
    "    val_lm = np.load(CLAS_PATH/'tmp'/f'val_ids_{i}_r.npy')\n",
    "\n",
    "    for x in tqdm(val_lm):\n",
    "        tmp_lm.append(x[::-1])\n",
    "\n",
    "    np.save(CLAS_PATH/'tmp'/f'val_ids_{i}_bkw_r.npy', np.array(tmp_lm))"
   ]
  },
  {
   "cell_type": "markdown",
   "metadata": {},
   "source": [
    "## Language model"
   ]
  },
  {
   "cell_type": "code",
   "execution_count": null,
   "metadata": {},
   "outputs": [],
   "source": [
    "trn_lm = np.load(LM_PATH/'tmp'/'trn_ids_bkw.npy')\n",
    "val_lm = np.load(LM_PATH/'tmp'/'val_ids_bkw.npy')\n",
    "itos = pickle.load(open(LM_PATH/'tmp'/'itos.pkl', 'rb'))\n",
    "\n",
    "vs=len(itos)\n",
    "vs,len(trn_lm)"
   ]
  },
  {
   "cell_type": "code",
   "execution_count": null,
   "metadata": {},
   "outputs": [],
   "source": [
    "em_sz,nh,nl = 400,1150,3\n",
    "\n",
    "wd=1e-7\n",
    "bptt=70\n",
    "bs=52\n",
    "opt_fn = partial(optim.Adam, betas=(0.8, 0.99))"
   ]
  },
  {
   "cell_type": "code",
   "execution_count": null,
   "metadata": {},
   "outputs": [],
   "source": [
    "trn_dl = LanguageModelLoader(np.concatenate(trn_lm), bs, bptt)\n",
    "val_dl = LanguageModelLoader(np.concatenate(val_lm), bs, bptt)\n",
    "md = LanguageModelData(PATH, 1, vs, trn_dl, val_dl, bs=bs, bptt=bptt)"
   ]
  },
  {
   "cell_type": "code",
   "execution_count": null,
   "metadata": {},
   "outputs": [],
   "source": [
    "drops = np.array([0.25, 0.1, 0.2, 0.02, 0.15])*0.7"
   ]
  },
  {
   "cell_type": "code",
   "execution_count": null,
   "metadata": {},
   "outputs": [],
   "source": [
    "learner= md.get_model(opt_fn, em_sz, nh, nl, \n",
    "    dropouti=drops[0], dropout=drops[1], wdrop=drops[2], dropoute=drops[3], dropouth=drops[4])\n",
    "\n",
    "learner.metrics = [accuracy]\n",
    "learner.unfreeze()"
   ]
  },
  {
   "cell_type": "code",
   "execution_count": null,
   "metadata": {},
   "outputs": [],
   "source": [
    "lr=1e-3\n",
    "lrs = lr"
   ]
  },
  {
   "cell_type": "code",
   "execution_count": null,
   "metadata": {},
   "outputs": [],
   "source": [
    "learner.fit(lrs/2, 1, wds=wd, use_clr=(32,2), cycle_len=1)"
   ]
  },
  {
   "cell_type": "code",
   "execution_count": null,
   "metadata": {},
   "outputs": [],
   "source": [
    "learner.save('lm_last_ft_bkw')"
   ]
  },
  {
   "cell_type": "code",
   "execution_count": null,
   "metadata": {},
   "outputs": [],
   "source": [
    "learner.load('lm_last_ft_bkw')"
   ]
  },
  {
   "cell_type": "code",
   "execution_count": null,
   "metadata": {},
   "outputs": [],
   "source": [
    "learner.unfreeze()"
   ]
  },
  {
   "cell_type": "code",
   "execution_count": null,
   "metadata": {},
   "outputs": [],
   "source": [
    "learner.fit(lrs/2, 1, wds=wd, use_clr=(32,2), cycle_len=1)"
   ]
  },
  {
   "cell_type": "code",
   "execution_count": null,
   "metadata": {},
   "outputs": [],
   "source": [
    "learner.save('lm0_bkw')"
   ]
  },
  {
   "cell_type": "code",
   "execution_count": null,
   "metadata": {},
   "outputs": [],
   "source": [
    "learner.save_encoder('lm_enc0_bkw')"
   ]
  },
  {
   "cell_type": "code",
   "execution_count": null,
   "metadata": {},
   "outputs": [],
   "source": [
    "learner.load('lm0_bkw')"
   ]
  },
  {
   "cell_type": "code",
   "execution_count": null,
   "metadata": {
    "scrolled": false
   },
   "outputs": [],
   "source": [
    "learner.fit(lrs, 1, wds=wd, use_clr=(20,10), cycle_len=10)"
   ]
  },
  {
   "cell_type": "code",
   "execution_count": null,
   "metadata": {},
   "outputs": [],
   "source": [
    "# 3.955312   3.864959   0.374353 \n",
    "learner.save('lm1_bkw')"
   ]
  },
  {
   "cell_type": "code",
   "execution_count": null,
   "metadata": {},
   "outputs": [],
   "source": [
    "learner.save_encoder('lm_enc1_bkw')"
   ]
  },
  {
   "cell_type": "code",
   "execution_count": null,
   "metadata": {},
   "outputs": [],
   "source": [
    "learner.sched.plot_loss()"
   ]
  },
  {
   "cell_type": "markdown",
   "metadata": {},
   "source": [
    "## Predict"
   ]
  },
  {
   "cell_type": "code",
   "execution_count": null,
   "metadata": {},
   "outputs": [],
   "source": [
    "path = \"/mnt/6676114C76111E7D/Kaggle/Alica/\""
   ]
  },
  {
   "cell_type": "code",
   "execution_count": null,
   "metadata": {},
   "outputs": [],
   "source": [
    "#folds neutral=bad\n",
    "itos = pickle.load((LM_PATH/'tmp'/'itos.pkl').open('rb'))\n",
    "stoi = collections.defaultdict(lambda:0, {v:k for k,v in enumerate(itos)})\n",
    "\n",
    "bptt,em_sz,nh,nl = 70,400,1150,3\n",
    "vs = len(itos)\n",
    "opt_fn = partial(optim.Adam, betas=(0.8, 0.99))\n",
    "bs = 48\n",
    "c = 2\n",
    "dps = np.array([0.4,0.5,0.05,0.3,0.4])*0.75\n",
    "\n",
    "lr=1e-3\n",
    "lrm = 2.6\n",
    "lrs = np.array([lr/(lrm**4), lr/(lrm**3), lr/(lrm**2), lr/lrm, lr])\n",
    "#lrs=np.array([1e-4,1e-4,1e-4,1e-3,1e-2])\n",
    "\n",
    "tst_clas = np.load(CLAS_PATH/'tmp'/'tst_ids_bkw_.npy')\n",
    "tst_labels = np.squeeze(np.load(CLAS_PATH/'tmp'/'tst_labels_.npy'))\n",
    "tst_ds = TextDataset(tst_clas, tst_labels)\n",
    "tst_samp = SimpleSampler(tst_clas)\n",
    "tst_dl = DataLoader(tst_ds, bs, transpose=True, num_workers=1, pad_idx=1, sampler=tst_samp)\n",
    "\n",
    "for i in tqdm(range(10)):\n",
    "    trn_clas = np.load(CLAS_PATH/'tmp'/f'trn_ids_{i}_bkw.npy')\n",
    "    val_clas = np.load(CLAS_PATH/'tmp'/f'val_ids_{i}_bkw.npy')\n",
    "    \n",
    "    trn_labels = np.squeeze(np.load(CLAS_PATH/'tmp'/f'trn_labels_{i}.npy'))\n",
    "    val_labels = np.squeeze(np.load(CLAS_PATH/'tmp'/f'val_labels_{i}.npy'))\n",
    "\n",
    "    trn_ds = TextDataset(trn_clas, trn_labels)\n",
    "    val_ds = TextDataset(val_clas, val_labels)\n",
    "    \n",
    "    trn_samp = SortishSampler(trn_clas, key=lambda x: len(trn_clas[x]), bs=bs//2)\n",
    "    val_samp = SortSampler(val_clas, key=lambda x: len(val_clas[x]))\n",
    "    \n",
    "    trn_dl = DataLoader(trn_ds, bs//2, transpose=True, num_workers=1, pad_idx=1, sampler=trn_samp)\n",
    "    val_dl = DataLoader(val_ds, bs, transpose=True, num_workers=1, pad_idx=1, sampler=val_samp)\n",
    "    \n",
    "    md = ModelData(PATH, trn_dl, val_dl, tst_dl)\n",
    "\n",
    "    m = get_rnn_classifer(bptt, 20*70, c, vs, emb_sz=em_sz, n_hid=nh, n_layers=nl, pad_token=1,\n",
    "              layers=[em_sz*3, 50, c], drops=[dps[4], 0.1],\n",
    "              dropouti=dps[0], wdrop=dps[1], dropoute=dps[2], dropouth=dps[3])\n",
    "\n",
    "    opt_fn = partial(optim.Adam, betas=(0.7, 0.99))\n",
    "\n",
    "    learn = RNN_Learner(md, TextModel(to_gpu(m)), opt_fn=opt_fn)\n",
    "    learn.reg_fn = partial(seq2seq_reg, alpha=2, beta=1)\n",
    "    learn.clip=25.\n",
    "    learn.metrics = [accuracy]\n",
    "\n",
    "#     wd = 0\n",
    "#     learn.load_encoder('lm_enc1_bkw')\n",
    "#     learn.freeze_to(-1)\n",
    "#     learn.fit(lrs, 1, wds=wd, cycle_len=1, use_clr=(8,3))\n",
    "#     learn.save(f'fold_{i}_bkw')\n",
    "\n",
    "#     learn.freeze_to(-2)\n",
    "#     learn.fit(lrs, 1, wds=wd, cycle_len=1, use_clr=(8,3))\n",
    "#     learn.save(f'fold_{i}_bkw')\n",
    "    \n",
    "#     wd = 1e-7\n",
    "#     learn.unfreeze()\n",
    "#     learn.fit(lrs, 1, wds=wd, cycle_len=1, use_clr=(8,3))\n",
    "#     learn.save(f'fold_{i}_bkw')\n",
    "    \n",
    "#     learn.fit(lrs, 2, wds=wd, cycle_len=1)\n",
    "#     learn.save(f'fold_{i}_bkw')\n",
    "    learn.load(f'./10_folds_bkw_bad_85921/fold_{i}_bkw')\n",
    "    \n",
    "    wd = 1e-7\n",
    "    learn.unfreeze()\n",
    "    learn.fit(lrs, 1, wds=wd, cycle_len=1, use_clr=(10,10,0.95,0.85))\n",
    "    learn.save(path+f'fold_{i}_bkw')\n",
    "    \n",
    "    preds = learn.predict(is_test=True)\n",
    "    \n",
    "    df = pd.read_csv(CLAS_PATH/'test_.csv', header=None, sep = \"\\t\", quoting=csv.QUOTE_NONE)\n",
    "    df[\"prob\"] = [c[1] for c in np.exp(preds)] \n",
    "    df.sort_values(by=[2,\"prob\"], inplace=True, ascending=[True,False])\n",
    "    df.to_csv(f\"./_blend1/_fold_{i}_bkw.tsv\",columns=[2,3,\"prob\"],index=False,sep=\"\\t\",header=False)"
   ]
  },
  {
   "cell_type": "code",
   "execution_count": null,
   "metadata": {},
   "outputs": [],
   "source": [
    "#folds neutral=good\n",
    "itos = pickle.load((LM_PATH/'tmp'/'itos.pkl').open('rb'))\n",
    "stoi = collections.defaultdict(lambda:0, {v:k for k,v in enumerate(itos)})\n",
    "\n",
    "bptt,em_sz,nh,nl = 70,400,1150,3\n",
    "vs = len(itos)\n",
    "opt_fn = partial(optim.Adam, betas=(0.8, 0.99))\n",
    "bs = 48\n",
    "c = 2\n",
    "dps = np.array([0.4,0.5,0.05,0.3,0.4])*0.75\n",
    "\n",
    "lr=1e-3\n",
    "lrm = 2.6\n",
    "lrs = np.array([lr/(lrm**4), lr/(lrm**3), lr/(lrm**2), lr/lrm, lr])\n",
    "#lrs=np.array([1e-4,1e-4,1e-4,1e-3,1e-2])\n",
    "\n",
    "tst_clas = np.load(CLAS_PATH/'tmp'/'tst_ids_bkw_.npy')\n",
    "tst_labels = np.squeeze(np.load(CLAS_PATH/'tmp'/'tst_labels_.npy'))\n",
    "tst_ds = TextDataset(tst_clas, tst_labels)\n",
    "tst_samp = SimpleSampler(tst_clas)\n",
    "tst_dl = DataLoader(tst_ds, bs, transpose=True, num_workers=1, pad_idx=1, sampler=tst_samp)\n",
    "\n",
    "for i in tqdm(range(10)):\n",
    "    trn_clas = np.load(CLAS_PATH/'tmp'/f'trn_ids_{i}_bkw_.npy')\n",
    "    val_clas = np.load(CLAS_PATH/'tmp'/f'val_ids_{i}_bkw_.npy')\n",
    "    \n",
    "    trn_labels = np.squeeze(np.load(CLAS_PATH/'tmp'/f'trn_labels_{i}_.npy'))\n",
    "    val_labels = np.squeeze(np.load(CLAS_PATH/'tmp'/f'val_labels_{i}_.npy'))\n",
    "\n",
    "    trn_ds = TextDataset(trn_clas, trn_labels)\n",
    "    val_ds = TextDataset(val_clas, val_labels)\n",
    "    \n",
    "    trn_samp = SortishSampler(trn_clas, key=lambda x: len(trn_clas[x]), bs=bs//2)\n",
    "    val_samp = SortSampler(val_clas, key=lambda x: len(val_clas[x]))\n",
    "    \n",
    "    trn_dl = DataLoader(trn_ds, bs//2, transpose=True, num_workers=1, pad_idx=1, sampler=trn_samp)\n",
    "    val_dl = DataLoader(val_ds, bs, transpose=True, num_workers=1, pad_idx=1, sampler=val_samp)\n",
    "    \n",
    "    md = ModelData(PATH, trn_dl, val_dl, tst_dl)\n",
    "\n",
    "    m = get_rnn_classifer(bptt, 20*70, c, vs, emb_sz=em_sz, n_hid=nh, n_layers=nl, pad_token=1,\n",
    "              layers=[em_sz*3, 50, c], drops=[dps[4], 0.1],\n",
    "              dropouti=dps[0], wdrop=dps[1], dropoute=dps[2], dropouth=dps[3])\n",
    "\n",
    "    opt_fn = partial(optim.Adam, betas=(0.7, 0.99))\n",
    "\n",
    "    learn = RNN_Learner(md, TextModel(to_gpu(m)), opt_fn=opt_fn)\n",
    "    learn.reg_fn = partial(seq2seq_reg, alpha=2, beta=1)\n",
    "    learn.clip=25.\n",
    "    learn.metrics = [accuracy]\n",
    "\n",
    "#     wd = 0\n",
    "#     learn.load_encoder('lm_enc1_bkw')\n",
    "#     learn.freeze_to(-1)\n",
    "#     learn.fit(lrs, 1, wds=wd, cycle_len=1, use_clr=(8,3))\n",
    "#     learn.save(f'fold_{i}_bkw_')\n",
    "\n",
    "#     learn.freeze_to(-2)\n",
    "#     learn.fit(lrs, 1, wds=wd, cycle_len=1, use_clr=(8,3))\n",
    "#     learn.save(f'fold_{i}_bkw_')\n",
    "    \n",
    "#     wd = 1e-7\n",
    "#     learn.unfreeze()\n",
    "#     learn.fit(lrs, 1, wds=wd, cycle_len=1, use_clr=(8,3))\n",
    "#     learn.save(f'fold_{i}_bkw_')\n",
    "    \n",
    "#     learn.fit(lrs, 1, wds=wd, cycle_len=1)\n",
    "#     learn.save(f'fold_{i}_bkw_')\n",
    "    learn.load(f'./10_folds_bkw_good_85650/fold_{i}_bkw_')\n",
    "    \n",
    "    wd = 1e-7\n",
    "    learn.unfreeze()\n",
    "    learn.fit(lrs, 1, wds=wd, cycle_len=1, use_clr=(10,10,0.95,0.85))\n",
    "    learn.save(path+f'fold_{i}_bkw_')\n",
    "    \n",
    "    preds = learn.predict(is_test=True)\n",
    "    \n",
    "    df = pd.read_csv(CLAS_PATH/'test_.csv', header=None, sep = \"\\t\", quoting=csv.QUOTE_NONE)\n",
    "    df[\"prob\"] = [c[1] for c in np.exp(preds)] \n",
    "    df.sort_values(by=[2,\"prob\"], inplace=True, ascending=[True,False])\n",
    "    df.to_csv(f\"./_blend1/_fold_{i}_bkw_.tsv\",columns=[2,3,\"prob\"],index=False,sep=\"\\t\",header=False)"
   ]
  },
  {
   "cell_type": "code",
   "execution_count": null,
   "metadata": {},
   "outputs": [],
   "source": [
    "#folds 3\n",
    "itos = pickle.load((LM_PATH/'tmp'/'itos.pkl').open('rb'))\n",
    "stoi = collections.defaultdict(lambda:0, {v:k for k,v in enumerate(itos)})\n",
    "\n",
    "bptt,em_sz,nh,nl = 70,400,1150,3\n",
    "vs = len(itos)\n",
    "opt_fn = partial(optim.Adam, betas=(0.8, 0.99))\n",
    "bs = 48\n",
    "c = 3\n",
    "dps = np.array([0.4,0.5,0.05,0.3,0.4])*0.75\n",
    "\n",
    "lr=1e-3\n",
    "lrm = 2.6\n",
    "lrs = np.array([lr/(lrm**4), lr/(lrm**3), lr/(lrm**2), lr/lrm, lr])\n",
    "#lrs=np.array([1e-4,1e-4,1e-4,1e-3,1e-2])\n",
    "\n",
    "tst_clas = np.load(CLAS_PATH/'tmp'/'tst_ids_bkw_.npy')\n",
    "tst_labels = np.squeeze(np.load(CLAS_PATH/'tmp'/'tst_labels_.npy'))\n",
    "tst_ds = TextDataset(tst_clas, tst_labels)\n",
    "tst_samp = SimpleSampler(tst_clas)\n",
    "tst_dl = DataLoader(tst_ds, bs, transpose=True, num_workers=1, pad_idx=1, sampler=tst_samp)\n",
    "\n",
    "for i in tqdm(range(10)):\n",
    "    trn_clas = np.load(CLAS_PATH/'tmp'/f'trn_ids_{i}_bkw.npy')\n",
    "    val_clas = np.load(CLAS_PATH/'tmp'/f'val_ids_{i}_bkw.npy')\n",
    "    \n",
    "    trn_labels = np.squeeze(np.load(CLAS_PATH/'tmp'/f'trn_labels_{i}_3.npy'))\n",
    "    val_labels = np.squeeze(np.load(CLAS_PATH/'tmp'/f'val_labels_{i}_3.npy'))\n",
    "\n",
    "    trn_ds = TextDataset(trn_clas, trn_labels)\n",
    "    val_ds = TextDataset(val_clas, val_labels)\n",
    "    \n",
    "    trn_samp = SortishSampler(trn_clas, key=lambda x: len(trn_clas[x]), bs=bs//2)\n",
    "    val_samp = SortSampler(val_clas, key=lambda x: len(val_clas[x]))\n",
    "    \n",
    "    trn_dl = DataLoader(trn_ds, bs//2, transpose=True, num_workers=1, pad_idx=1, sampler=trn_samp)\n",
    "    val_dl = DataLoader(val_ds, bs, transpose=True, num_workers=1, pad_idx=1, sampler=val_samp)\n",
    "    \n",
    "    md = ModelData(PATH, trn_dl, val_dl, tst_dl)\n",
    "\n",
    "    m = get_rnn_classifer(bptt, 20*70, c, vs, emb_sz=em_sz, n_hid=nh, n_layers=nl, pad_token=1,\n",
    "              layers=[em_sz*3, 50, c], drops=[dps[4], 0.1],\n",
    "              dropouti=dps[0], wdrop=dps[1], dropoute=dps[2], dropouth=dps[3])\n",
    "\n",
    "    opt_fn = partial(optim.Adam, betas=(0.7, 0.99))\n",
    "\n",
    "    learn = RNN_Learner(md, TextModel(to_gpu(m)), opt_fn=opt_fn)\n",
    "    learn.reg_fn = partial(seq2seq_reg, alpha=2, beta=1)\n",
    "    learn.clip=25.\n",
    "    learn.metrics = [accuracy]\n",
    "\n",
    "#     wd = 0\n",
    "#     learn.load_encoder('lm_enc1_bkw')\n",
    "#     learn.freeze_to(-1)\n",
    "#     learn.fit(lrs, 1, wds=wd, cycle_len=1, use_clr=(8,3))\n",
    "#     learn.save(f'fold_{i}_bkw_3')\n",
    "\n",
    "#     learn.freeze_to(-2)\n",
    "#     learn.fit(lrs, 1, wds=wd, cycle_len=1, use_clr=(8,3))\n",
    "#     learn.save(f'fold_{i}_bkw_3')\n",
    "    \n",
    "#     wd = 1e-7\n",
    "#     learn.unfreeze()\n",
    "#     learn.fit(lrs, 1, wds=wd, cycle_len=1, use_clr=(8,3))\n",
    "#     learn.save(f'fold_{i}_bkw_3')\n",
    "    \n",
    "#     learn.fit(lrs, 1, wds=wd, cycle_len=1)\n",
    "#     learn.save(f'fold_{i}_bkw_3')\n",
    "    \n",
    "#     learn.fit(lrs, 1, wds=wd, cycle_len=1)\n",
    "#     learn.save(f'fold_{i}_bkw_3')\n",
    "    learn.load(f'./10_folds_bkw_3_1.4_86795/fold_{i}_bkw_3_')\n",
    "    \n",
    "    wd = 1e-7\n",
    "    learn.unfreeze()\n",
    "    learn.fit(lrs, 1, wds=wd, cycle_len=1, use_clr=(10,10,0.95,0.85))\n",
    "    learn.save(path+f'fold_{i}_bkw_3')\n",
    "    \n",
    "    preds = learn.predict(is_test=True)\n",
    "    \n",
    "    df = pd.read_csv(CLAS_PATH/'test_.csv', header=None, sep = \"\\t\", quoting=csv.QUOTE_NONE)\n",
    "    df[\"prob1\"] = [c[1] for c in np.exp(preds)]\n",
    "    df[\"prob2\"] = [c[2] for c in np.exp(preds)]\n",
    "    df.to_csv(f\"./_blend1/_fold_{i}_bkw_3.tsv\",columns=[2,3,\"prob1\",\"prob2\"],index=False,sep=\"\\t\",header=False)"
   ]
  },
  {
   "cell_type": "code",
   "execution_count": null,
   "metadata": {},
   "outputs": [],
   "source": [
    "#folds neutral=good\n",
    "itos = pickle.load((LM_PATH/'tmp'/'itos.pkl').open('rb'))\n",
    "stoi = collections.defaultdict(lambda:0, {v:k for k,v in enumerate(itos)})\n",
    "\n",
    "bptt,em_sz,nh,nl = 70,400,1150,3\n",
    "vs = len(itos)\n",
    "opt_fn = partial(optim.Adam, betas=(0.8, 0.99))\n",
    "bs = 48\n",
    "c = 2\n",
    "dps = np.array([0.4,0.5,0.05,0.3,0.4])*0.75\n",
    "\n",
    "lr=1e-3\n",
    "lrm = 2.6\n",
    "lrs = np.array([lr/(lrm**4), lr/(lrm**3), lr/(lrm**2), lr/lrm, lr])\n",
    "#lrs=np.array([1e-4,1e-4,1e-4,1e-3,1e-2])\n",
    "\n",
    "tst_clas = np.load(CLAS_PATH/'tmp'/'tst_ids_bkw_.npy')\n",
    "tst_labels = np.squeeze(np.load(CLAS_PATH/'tmp'/'tst_labels_.npy'))\n",
    "tst_ds = TextDataset(tst_clas, tst_labels)\n",
    "tst_samp = SimpleSampler(tst_clas)\n",
    "tst_dl = DataLoader(tst_ds, bs, transpose=True, num_workers=1, pad_idx=1, sampler=tst_samp)\n",
    "\n",
    "for i in tqdm(range(10)):\n",
    "    trn_clas = np.load(CLAS_PATH/'tmp'/f'trn_ids_{i}_bkw_n.npy')\n",
    "    val_clas = np.load(CLAS_PATH/'tmp'/f'val_ids_{i}_bkw_n.npy')\n",
    "    \n",
    "    trn_labels = np.squeeze(np.load(CLAS_PATH/'tmp'/f'trn_labels_{i}_n.npy'))\n",
    "    val_labels = np.squeeze(np.load(CLAS_PATH/'tmp'/f'val_labels_{i}_n.npy'))\n",
    "\n",
    "    trn_ds = TextDataset(trn_clas, trn_labels)\n",
    "    val_ds = TextDataset(val_clas, val_labels)\n",
    "    \n",
    "    trn_samp = SortishSampler(trn_clas, key=lambda x: len(trn_clas[x]), bs=bs//2)\n",
    "    val_samp = SortSampler(val_clas, key=lambda x: len(val_clas[x]))\n",
    "    \n",
    "    trn_dl = DataLoader(trn_ds, bs//2, transpose=True, num_workers=1, pad_idx=1, sampler=trn_samp)\n",
    "    val_dl = DataLoader(val_ds, bs, transpose=True, num_workers=1, pad_idx=1, sampler=val_samp)\n",
    "    \n",
    "    md = ModelData(PATH, trn_dl, val_dl, tst_dl)\n",
    "\n",
    "    m = get_rnn_classifer(bptt, 20*70, c, vs, emb_sz=em_sz, n_hid=nh, n_layers=nl, pad_token=1,\n",
    "              layers=[em_sz*3, 50, c], drops=[dps[4], 0.1],\n",
    "              dropouti=dps[0], wdrop=dps[1], dropoute=dps[2], dropouth=dps[3])\n",
    "\n",
    "    opt_fn = partial(optim.Adam, betas=(0.7, 0.99))\n",
    "\n",
    "    learn = RNN_Learner(md, TextModel(to_gpu(m)), opt_fn=opt_fn)\n",
    "    learn.reg_fn = partial(seq2seq_reg, alpha=2, beta=1)\n",
    "    learn.clip=25.\n",
    "    learn.metrics = [accuracy]\n",
    "\n",
    "#     wd = 0\n",
    "#     learn.load_encoder('lm_enc1_bkw')\n",
    "#     learn.freeze_to(-1)\n",
    "#     learn.fit(lrs, 1, wds=wd, cycle_len=1, use_clr=(8,3))\n",
    "#     learn.save(f'fold_{i}_bkw_n')\n",
    "\n",
    "#     learn.freeze_to(-2)\n",
    "#     learn.fit(lrs, 1, wds=wd, cycle_len=1, use_clr=(8,3))\n",
    "#     learn.save(f'fold_{i}_bkw_n')\n",
    "    \n",
    "#     wd = 1e-7\n",
    "#     learn.unfreeze()\n",
    "#     learn.fit(lrs, 1, wds=wd, cycle_len=1, use_clr=(8,3))\n",
    "#     learn.save(f'fold_{i}_bkw_n')\n",
    "    \n",
    "#     learn.fit(lrs, 1, wds=wd, cycle_len=1)\n",
    "#     learn.save(f'fold_{i}_bkw_n')\n",
    "    learn.load(f'./10_folds_bkw_neutral/fold_{i}_bkw_n')\n",
    "    \n",
    "    wd = 1e-7\n",
    "    learn.unfreeze()\n",
    "    learn.fit(lrs, 1, wds=wd, cycle_len=1, use_clr=(10,10,0.95,0.85))\n",
    "    learn.save(path+f'fold_{i}_bkw_n')\n",
    "    \n",
    "    preds = learn.predict(is_test=True)\n",
    "    \n",
    "    df = pd.read_csv(CLAS_PATH/'test_.csv', header=None, sep = \"\\t\", quoting=csv.QUOTE_NONE)\n",
    "    df[\"prob\"] = [c[1] for c in np.exp(preds)] \n",
    "    df.sort_values(by=[2,\"prob\"], inplace=True, ascending=[True,False])\n",
    "    df.to_csv(f\"./_blend1/_fold_{i}_bkw_n.tsv\",columns=[2,3,\"prob\"],index=False,sep=\"\\t\",header=False)"
   ]
  },
  {
   "cell_type": "code",
   "execution_count": null,
   "metadata": {},
   "outputs": [],
   "source": [
    "#folds reg\n",
    "itos = pickle.load((LM_PATH/'tmp'/'itos.pkl').open('rb'))\n",
    "stoi = collections.defaultdict(lambda:0, {v:k for k,v in enumerate(itos)})\n",
    "\n",
    "bptt,em_sz,nh,nl = 70,400,1150,3\n",
    "vs = len(itos)\n",
    "opt_fn = partial(optim.Adam, betas=(0.8, 0.99))\n",
    "bs = 48\n",
    "c = 1\n",
    "dps = np.array([0.4,0.5,0.05,0.3,0.4])*0.75\n",
    "\n",
    "lr=1e-3\n",
    "lrm = 2.6\n",
    "lrs = np.array([lr/(lrm**4), lr/(lrm**3), lr/(lrm**2), lr/lrm, lr])\n",
    "#lrs=np.array([1e-4,1e-4,1e-4,1e-3,1e-2])\n",
    "\n",
    "tst_clas = np.load(CLAS_PATH/'tmp'/'tst_ids_bkw_.npy')\n",
    "tst_labels = np.squeeze(np.load(CLAS_PATH/'tmp'/'tst_labels_.npy'))\n",
    "tst_ds = TextDataset(tst_clas, tst_labels)\n",
    "tst_samp = SimpleSampler(tst_clas)\n",
    "tst_dl = DataLoader(tst_ds, bs, transpose=True, num_workers=1, pad_idx=1, sampler=tst_samp)\n",
    "\n",
    "for i in tqdm(range(10)):\n",
    "    trn_clas = np.load(CLAS_PATH/'tmp'/f'trn_ids_{i}_bkw_r.npy')\n",
    "    val_clas = np.load(CLAS_PATH/'tmp'/f'val_ids_{i}_bkw_r.npy')\n",
    "    \n",
    "    trn_labels = np.squeeze(np.load(CLAS_PATH/'tmp'/f'trn_labels_{i}_r.npy'))\n",
    "    val_labels = np.squeeze(np.load(CLAS_PATH/'tmp'/f'val_labels_{i}_r.npy'))\n",
    "\n",
    "    trn_ds = TextDataset(trn_clas, trn_labels)\n",
    "    val_ds = TextDataset(val_clas, val_labels)\n",
    "    \n",
    "    trn_samp = SortishSampler(trn_clas, key=lambda x: len(trn_clas[x]), bs=bs//2)\n",
    "    val_samp = SortSampler(val_clas, key=lambda x: len(val_clas[x]))\n",
    "    \n",
    "    trn_dl = DataLoader(trn_ds, bs//2, transpose=True, num_workers=1, pad_idx=1, sampler=trn_samp)\n",
    "    val_dl = DataLoader(val_ds, bs, transpose=True, num_workers=1, pad_idx=1, sampler=val_samp)\n",
    "    \n",
    "    md = ModelData(PATH, trn_dl, val_dl, tst_dl)\n",
    "\n",
    "    m = get_rnn_regression(bptt, 20*70, c, vs, emb_sz=em_sz, n_hid=nh, n_layers=nl, pad_token=1,\n",
    "              layers=[em_sz, 50, c], drops=[dps[4], 0.1],\n",
    "              dropouti=dps[0], wdrop=dps[1], dropoute=dps[2], dropouth=dps[3])\n",
    "\n",
    "    opt_fn = partial(optim.Adam, betas=(0.7, 0.99))\n",
    "\n",
    "    learn = RNN_Learner(md, TextModel(to_gpu(m)), opt_fn=opt_fn)\n",
    "    learn.reg_fn = partial(seq2seq_reg, alpha=2, beta=1)\n",
    "    learn.clip=25.\n",
    "    \n",
    "    learn.crit = F.mse_loss\n",
    "\n",
    "#     wd = 0\n",
    "#     learn.load_encoder('lm_enc1')\n",
    "#     learn.freeze_to(-1)\n",
    "#     learn.fit(lrs, 1, wds=wd, cycle_len=1, use_clr=(8,3))\n",
    "#     learn.save(f'fold_{i}_bkw_r')\n",
    "\n",
    "#     learn.freeze_to(-2)\n",
    "#     learn.fit(lrs, 1, wds=wd, cycle_len=1, use_clr=(8,3))\n",
    "#     learn.save(f'fold_{i}_bkw_r')\n",
    "    \n",
    "#     wd = 1e-7\n",
    "#     learn.unfreeze()\n",
    "#     learn.fit(lrs, 1, wds=wd, cycle_len=1, use_clr=(8,3))\n",
    "#     learn.save(f'fold_{i}_bkw_r')\n",
    "    \n",
    "#     learn.fit(lrs, 5, wds=wd, cycle_len=1)\n",
    "#     learn.save(f'fold_{i}_bkw_r')\n",
    "    learn.load(f'./10_folds_bkw_mse_86040/fold_{i}_bkw_r')\n",
    "    preds = learn.predict(is_test=True)\n",
    "    \n",
    "    wd = 1e-7\n",
    "    learn.unfreeze()\n",
    "    learn.fit(lrs, 1, wds=wd, cycle_len=1, use_clr=(10,10,0.95,0.85))\n",
    "    learn.save(path+f'fold_{i}_bkw_r')\n",
    "    \n",
    "    df = pd.read_csv(CLAS_PATH/'test_.csv', header=None, sep = \"\\t\", quoting=csv.QUOTE_NONE)\n",
    "    df[\"prob\"] = [c[0] for c in preds]\n",
    "    df.to_csv(f\"./_blend1/_fold_{i}_bkw_r.tsv\",columns=[2,3,\"prob\"],index=False,sep=\"\\t\",header=False)"
   ]
  }
 ],
 "metadata": {
  "_draft": {
   "nbviewer_url": "https://gist.github.com/0dd0df21cf404cf2bb51d0148c8b7d8b"
  },
  "gist": {
   "data": {
    "description": "fastai.text imdb example",
    "public": true
   },
   "id": "0dd0df21cf404cf2bb51d0148c8b7d8b"
  },
  "kernelspec": {
   "display_name": "Python [default]",
   "language": "python",
   "name": "python3"
  },
  "language_info": {
   "codemirror_mode": {
    "name": "ipython",
    "version": 3
   },
   "file_extension": ".py",
   "mimetype": "text/x-python",
   "name": "python",
   "nbconvert_exporter": "python",
   "pygments_lexer": "ipython3",
   "version": "3.6.4"
  },
  "toc": {
   "colors": {
    "hover_highlight": "#DAA520",
    "navigate_num": "#000000",
    "navigate_text": "#333333",
    "running_highlight": "#FF0000",
    "selected_highlight": "#FFD700",
    "sidebar_border": "#EEEEEE",
    "wrapper_background": "#FFFFFF"
   },
   "moveMenuLeft": true,
   "nav_menu": {
    "height": "86px",
    "width": "252px"
   },
   "navigate_menu": true,
   "number_sections": true,
   "sideBar": true,
   "threshold": 4,
   "toc_cell": false,
   "toc_section_display": "block",
   "toc_window_display": false,
   "widenNotebook": false
  }
 },
 "nbformat": 4,
 "nbformat_minor": 2
}
